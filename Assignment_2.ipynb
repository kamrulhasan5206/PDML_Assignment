{
 "cells": [
  {
   "cell_type": "markdown",
   "id": "4e5fceda",
   "metadata": {},
   "source": [
    "# Example 1:"
   ]
  },
  {
   "cell_type": "code",
   "execution_count": 7,
   "id": "64bc6722",
   "metadata": {},
   "outputs": [],
   "source": [
    "class vehicalManagement:\n",
    "    vehical_route = None\n",
    "    mileagePerklio = None\n",
    "    OliPricePerLiter = None\n",
    "    \n",
    "    def __init__(self, v_route, mileage, o_price):\n",
    "        self.vehical_route = v_route\n",
    "        self.mileagePerkilo = mileage\n",
    "        self.OilPricePerLiter = o_price\n",
    "    \n",
    "    def getRoutePrice(self):\n",
    "        routPrice = (self.vehical_route / self.mileagePerkilo) * self.OilPricePerLiter\n",
    "        return routPrice\n",
    "    def getInfo(self, v_name):\n",
    "        vehicals= {\"Tata\":10002001, \"Maroti\":10002002, \"Mahindra\":10002003, \"Minitatas\":10002004}\n",
    "        for key, value in vehicals.items():\n",
    "            if key == v_name:\n",
    "                cost = self.getRoutePrice()\n",
    "                return \"Vehical Name:\"+key+\"\\nVehical ID:\"+str(value)+\"\\nTotalCost:\"+str(cost)\n",
    "                break"
   ]
  },
  {
   "cell_type": "code",
   "execution_count": 8,
   "id": "25bd00cf",
   "metadata": {},
   "outputs": [
    {
     "name": "stdout",
     "output_type": "stream",
     "text": [
      "640.0\n"
     ]
    }
   ],
   "source": [
    "route_cost = vehicalManagement(40, 5, 80)\n",
    "print(route_cost.getRoutePrice())"
   ]
  },
  {
   "cell_type": "code",
   "execution_count": 9,
   "id": "b15b2519",
   "metadata": {},
   "outputs": [
    {
     "name": "stdout",
     "output_type": "stream",
     "text": [
      "Enter vehical name form following list {\"Tata\":10002001, \"Maroti\":10002002, \"Mahindra\":10002003, \"Minitatas\":10002004}:Tata\n",
      "Enter Total distance in km:80\n",
      "Enter oil price per liter:100\n",
      "Enter milage in litter per kilo:8\n",
      "Vehical Name:Tata\n",
      "Vehical ID:10002001\n",
      "TotalCost:1000.0\n"
     ]
    }
   ],
   "source": [
    "v_name = input('''Enter vehical name form following list {\"Tata\":10002001, \"Maroti\":10002002, \"Mahindra\":10002003, \"Minitatas\":10002004}:''')\n",
    "Distance = int(input(\"Enter Total distance in km:\"))\n",
    "oilPrice = int(input(\"Enter oil price per liter:\"))\n",
    "mileage = int(input(\"Enter milage in litter per kilo:\"))\n",
    "\n",
    "VMM = vehicalManagement(Distance, mileage, oilPrice)\n",
    "print(VMM.getInfo(v_name))\n"
   ]
  },
  {
   "cell_type": "code",
   "execution_count": null,
   "id": "ae568c8f",
   "metadata": {},
   "outputs": [],
   "source": []
  },
  {
   "cell_type": "markdown",
   "id": "78450e12",
   "metadata": {},
   "source": [
    "# Example 2:"
   ]
  },
  {
   "cell_type": "code",
   "execution_count": 12,
   "id": "3108ec65",
   "metadata": {},
   "outputs": [],
   "source": [
    "class vehical:\n",
    "    vehical_name = \"\"\n",
    "    vehical_id = \"\"\n",
    "    vehical_size = \"\"\n",
    "    vehical_mileage = \"\"\n",
    "    \n",
    "    def __init__(self, v_name, v_id, v_size, v_mileage):\n",
    "        self.vehical_name = v_name\n",
    "        self.vehical_id = v_id\n",
    "        self.vehical_size = v_size\n",
    "        self.vehical_mileage = v_mileage\n",
    "    def __str__(self):\n",
    "        return \"Name:\"+self.vehical_name+\"\\nVehicalID:\"+self.vehical_id+\"\\nVhicalSize:\"+self.vehical_size+\"\\nVehicalMilage:\"+self.vehical_mileage\n",
    "    "
   ]
  },
  {
   "cell_type": "code",
   "execution_count": 13,
   "id": "c431d729",
   "metadata": {},
   "outputs": [
    {
     "name": "stdout",
     "output_type": "stream",
     "text": [
      "Name:Volvo\n",
      "VehicalID:000345563\n",
      "VhicalSize:14ft\n",
      "VehicalMilage:40kl/h\n"
     ]
    }
   ],
   "source": [
    "vehical_info = vehical(\"Volvo\", \"000345563\", \"14ft\", \"40kl/h\")\n",
    "print(vehical_info)"
   ]
  },
  {
   "cell_type": "code",
   "execution_count": null,
   "id": "f92715d6",
   "metadata": {},
   "outputs": [],
   "source": []
  },
  {
   "cell_type": "markdown",
   "id": "a8a8d8e8",
   "metadata": {},
   "source": [
    "# Example 3:"
   ]
  },
  {
   "cell_type": "code",
   "execution_count": 3,
   "id": "879fc43c",
   "metadata": {},
   "outputs": [],
   "source": [
    "class calculation:\n",
    "    def Addition(*num):\n",
    "        N_sum = 0\n",
    "        for n in num:\n",
    "            N_sum += n\n",
    "        return N_sum\n",
    "    def subtraction(num1, num2):\n",
    "        subs = num1 - num2\n",
    "        return subs\n",
    "    def multiplication(num1, num2):\n",
    "        product = num1 * num2\n",
    "        return product"
   ]
  },
  {
   "cell_type": "code",
   "execution_count": 4,
   "id": "55f6e99a",
   "metadata": {},
   "outputs": [
    {
     "name": "stdout",
     "output_type": "stream",
     "text": [
      "31\n"
     ]
    }
   ],
   "source": [
    "sumation = calculation.Addition(1, 2, 4, 5, 10, 9)\n",
    "print(sumation)"
   ]
  },
  {
   "cell_type": "code",
   "execution_count": 5,
   "id": "03770e2c",
   "metadata": {},
   "outputs": [
    {
     "name": "stdout",
     "output_type": "stream",
     "text": [
      "13329298234\n"
     ]
    }
   ],
   "source": [
    "subs = calculation.subtraction(13337676573, 8378339)\n",
    "print(subs)"
   ]
  },
  {
   "cell_type": "code",
   "execution_count": 6,
   "id": "b4acaee8",
   "metadata": {},
   "outputs": [
    {
     "name": "stdout",
     "output_type": "stream",
     "text": [
      "1584\n"
     ]
    }
   ],
   "source": [
    "product = calculation.multiplication(36, 44)\n",
    "print(product)"
   ]
  }
 ],
 "metadata": {
  "kernelspec": {
   "display_name": "Python 3",
   "language": "python",
   "name": "python3"
  },
  "language_info": {
   "codemirror_mode": {
    "name": "ipython",
    "version": 3
   },
   "file_extension": ".py",
   "mimetype": "text/x-python",
   "name": "python",
   "nbconvert_exporter": "python",
   "pygments_lexer": "ipython3",
   "version": "3.8.8"
  }
 },
 "nbformat": 4,
 "nbformat_minor": 5
}
