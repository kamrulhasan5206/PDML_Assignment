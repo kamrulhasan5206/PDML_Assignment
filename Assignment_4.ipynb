{
 "cells": [
  {
   "cell_type": "code",
   "execution_count": 1,
   "id": "ab763c3f",
   "metadata": {},
   "outputs": [],
   "source": [
    "import pandas as pd\n",
    "import numpy as np"
   ]
  },
  {
   "cell_type": "code",
   "execution_count": 2,
   "id": "b29fb0cd",
   "metadata": {},
   "outputs": [],
   "source": [
    "df =pd.read_csv('googleplaystore.csv')"
   ]
  },
  {
   "cell_type": "code",
   "execution_count": 3,
   "id": "39318cb6",
   "metadata": {},
   "outputs": [
    {
     "data": {
      "text/html": [
       "<div>\n",
       "<style scoped>\n",
       "    .dataframe tbody tr th:only-of-type {\n",
       "        vertical-align: middle;\n",
       "    }\n",
       "\n",
       "    .dataframe tbody tr th {\n",
       "        vertical-align: top;\n",
       "    }\n",
       "\n",
       "    .dataframe thead th {\n",
       "        text-align: right;\n",
       "    }\n",
       "</style>\n",
       "<table border=\"1\" class=\"dataframe\">\n",
       "  <thead>\n",
       "    <tr style=\"text-align: right;\">\n",
       "      <th></th>\n",
       "      <th>App</th>\n",
       "      <th>Category</th>\n",
       "      <th>Rating</th>\n",
       "      <th>Reviews</th>\n",
       "      <th>Size</th>\n",
       "      <th>Installs</th>\n",
       "      <th>Type</th>\n",
       "      <th>Price</th>\n",
       "      <th>Content Rating</th>\n",
       "      <th>Genres</th>\n",
       "      <th>Last Updated</th>\n",
       "      <th>Current Ver</th>\n",
       "      <th>Android Ver</th>\n",
       "    </tr>\n",
       "  </thead>\n",
       "  <tbody>\n",
       "    <tr>\n",
       "      <th>0</th>\n",
       "      <td>Photo Editor &amp; Candy Camera &amp; Grid &amp; ScrapBook</td>\n",
       "      <td>ART_AND_DESIGN</td>\n",
       "      <td>4.1</td>\n",
       "      <td>159</td>\n",
       "      <td>19M</td>\n",
       "      <td>10,000+</td>\n",
       "      <td>Free</td>\n",
       "      <td>0</td>\n",
       "      <td>Everyone</td>\n",
       "      <td>Art &amp; Design</td>\n",
       "      <td>January 7, 2018</td>\n",
       "      <td>1.0.0</td>\n",
       "      <td>4.0.3 and up</td>\n",
       "    </tr>\n",
       "    <tr>\n",
       "      <th>1</th>\n",
       "      <td>Coloring book moana</td>\n",
       "      <td>ART_AND_DESIGN</td>\n",
       "      <td>3.9</td>\n",
       "      <td>967</td>\n",
       "      <td>14M</td>\n",
       "      <td>500,000+</td>\n",
       "      <td>Free</td>\n",
       "      <td>0</td>\n",
       "      <td>Everyone</td>\n",
       "      <td>Art &amp; Design;Pretend Play</td>\n",
       "      <td>January 15, 2018</td>\n",
       "      <td>2.0.0</td>\n",
       "      <td>4.0.3 and up</td>\n",
       "    </tr>\n",
       "    <tr>\n",
       "      <th>2</th>\n",
       "      <td>U Launcher Lite – FREE Live Cool Themes, Hide ...</td>\n",
       "      <td>ART_AND_DESIGN</td>\n",
       "      <td>4.7</td>\n",
       "      <td>87510</td>\n",
       "      <td>8.7M</td>\n",
       "      <td>5,000,000+</td>\n",
       "      <td>Free</td>\n",
       "      <td>0</td>\n",
       "      <td>Everyone</td>\n",
       "      <td>Art &amp; Design</td>\n",
       "      <td>August 1, 2018</td>\n",
       "      <td>1.2.4</td>\n",
       "      <td>4.0.3 and up</td>\n",
       "    </tr>\n",
       "    <tr>\n",
       "      <th>3</th>\n",
       "      <td>Sketch - Draw &amp; Paint</td>\n",
       "      <td>ART_AND_DESIGN</td>\n",
       "      <td>4.5</td>\n",
       "      <td>215644</td>\n",
       "      <td>25M</td>\n",
       "      <td>50,000,000+</td>\n",
       "      <td>Free</td>\n",
       "      <td>0</td>\n",
       "      <td>Teen</td>\n",
       "      <td>Art &amp; Design</td>\n",
       "      <td>June 8, 2018</td>\n",
       "      <td>Varies with device</td>\n",
       "      <td>4.2 and up</td>\n",
       "    </tr>\n",
       "    <tr>\n",
       "      <th>4</th>\n",
       "      <td>Pixel Draw - Number Art Coloring Book</td>\n",
       "      <td>ART_AND_DESIGN</td>\n",
       "      <td>4.3</td>\n",
       "      <td>967</td>\n",
       "      <td>2.8M</td>\n",
       "      <td>100,000+</td>\n",
       "      <td>Free</td>\n",
       "      <td>0</td>\n",
       "      <td>Everyone</td>\n",
       "      <td>Art &amp; Design;Creativity</td>\n",
       "      <td>June 20, 2018</td>\n",
       "      <td>1.1</td>\n",
       "      <td>4.4 and up</td>\n",
       "    </tr>\n",
       "  </tbody>\n",
       "</table>\n",
       "</div>"
      ],
      "text/plain": [
       "                                                 App        Category  Rating  \\\n",
       "0     Photo Editor & Candy Camera & Grid & ScrapBook  ART_AND_DESIGN     4.1   \n",
       "1                                Coloring book moana  ART_AND_DESIGN     3.9   \n",
       "2  U Launcher Lite – FREE Live Cool Themes, Hide ...  ART_AND_DESIGN     4.7   \n",
       "3                              Sketch - Draw & Paint  ART_AND_DESIGN     4.5   \n",
       "4              Pixel Draw - Number Art Coloring Book  ART_AND_DESIGN     4.3   \n",
       "\n",
       "  Reviews  Size     Installs  Type Price Content Rating  \\\n",
       "0     159   19M      10,000+  Free     0       Everyone   \n",
       "1     967   14M     500,000+  Free     0       Everyone   \n",
       "2   87510  8.7M   5,000,000+  Free     0       Everyone   \n",
       "3  215644   25M  50,000,000+  Free     0           Teen   \n",
       "4     967  2.8M     100,000+  Free     0       Everyone   \n",
       "\n",
       "                      Genres      Last Updated         Current Ver  \\\n",
       "0               Art & Design   January 7, 2018               1.0.0   \n",
       "1  Art & Design;Pretend Play  January 15, 2018               2.0.0   \n",
       "2               Art & Design    August 1, 2018               1.2.4   \n",
       "3               Art & Design      June 8, 2018  Varies with device   \n",
       "4    Art & Design;Creativity     June 20, 2018                 1.1   \n",
       "\n",
       "    Android Ver  \n",
       "0  4.0.3 and up  \n",
       "1  4.0.3 and up  \n",
       "2  4.0.3 and up  \n",
       "3    4.2 and up  \n",
       "4    4.4 and up  "
      ]
     },
     "execution_count": 3,
     "metadata": {},
     "output_type": "execute_result"
    }
   ],
   "source": [
    "df.head()"
   ]
  },
  {
   "cell_type": "code",
   "execution_count": 4,
   "id": "c7fb86e9",
   "metadata": {},
   "outputs": [],
   "source": [
    "df.drop('App', axis=1, inplace=True)"
   ]
  },
  {
   "cell_type": "code",
   "execution_count": 5,
   "id": "ef942316",
   "metadata": {},
   "outputs": [
    {
     "data": {
      "text/html": [
       "<div>\n",
       "<style scoped>\n",
       "    .dataframe tbody tr th:only-of-type {\n",
       "        vertical-align: middle;\n",
       "    }\n",
       "\n",
       "    .dataframe tbody tr th {\n",
       "        vertical-align: top;\n",
       "    }\n",
       "\n",
       "    .dataframe thead th {\n",
       "        text-align: right;\n",
       "    }\n",
       "</style>\n",
       "<table border=\"1\" class=\"dataframe\">\n",
       "  <thead>\n",
       "    <tr style=\"text-align: right;\">\n",
       "      <th></th>\n",
       "      <th>Category</th>\n",
       "      <th>Rating</th>\n",
       "      <th>Reviews</th>\n",
       "      <th>Size</th>\n",
       "      <th>Installs</th>\n",
       "      <th>Type</th>\n",
       "      <th>Price</th>\n",
       "      <th>Content Rating</th>\n",
       "      <th>Genres</th>\n",
       "      <th>Last Updated</th>\n",
       "      <th>Current Ver</th>\n",
       "      <th>Android Ver</th>\n",
       "    </tr>\n",
       "  </thead>\n",
       "  <tbody>\n",
       "    <tr>\n",
       "      <th>0</th>\n",
       "      <td>ART_AND_DESIGN</td>\n",
       "      <td>4.1</td>\n",
       "      <td>159</td>\n",
       "      <td>19M</td>\n",
       "      <td>10,000+</td>\n",
       "      <td>Free</td>\n",
       "      <td>0</td>\n",
       "      <td>Everyone</td>\n",
       "      <td>Art &amp; Design</td>\n",
       "      <td>January 7, 2018</td>\n",
       "      <td>1.0.0</td>\n",
       "      <td>4.0.3 and up</td>\n",
       "    </tr>\n",
       "    <tr>\n",
       "      <th>1</th>\n",
       "      <td>ART_AND_DESIGN</td>\n",
       "      <td>3.9</td>\n",
       "      <td>967</td>\n",
       "      <td>14M</td>\n",
       "      <td>500,000+</td>\n",
       "      <td>Free</td>\n",
       "      <td>0</td>\n",
       "      <td>Everyone</td>\n",
       "      <td>Art &amp; Design;Pretend Play</td>\n",
       "      <td>January 15, 2018</td>\n",
       "      <td>2.0.0</td>\n",
       "      <td>4.0.3 and up</td>\n",
       "    </tr>\n",
       "    <tr>\n",
       "      <th>2</th>\n",
       "      <td>ART_AND_DESIGN</td>\n",
       "      <td>4.7</td>\n",
       "      <td>87510</td>\n",
       "      <td>8.7M</td>\n",
       "      <td>5,000,000+</td>\n",
       "      <td>Free</td>\n",
       "      <td>0</td>\n",
       "      <td>Everyone</td>\n",
       "      <td>Art &amp; Design</td>\n",
       "      <td>August 1, 2018</td>\n",
       "      <td>1.2.4</td>\n",
       "      <td>4.0.3 and up</td>\n",
       "    </tr>\n",
       "    <tr>\n",
       "      <th>3</th>\n",
       "      <td>ART_AND_DESIGN</td>\n",
       "      <td>4.5</td>\n",
       "      <td>215644</td>\n",
       "      <td>25M</td>\n",
       "      <td>50,000,000+</td>\n",
       "      <td>Free</td>\n",
       "      <td>0</td>\n",
       "      <td>Teen</td>\n",
       "      <td>Art &amp; Design</td>\n",
       "      <td>June 8, 2018</td>\n",
       "      <td>Varies with device</td>\n",
       "      <td>4.2 and up</td>\n",
       "    </tr>\n",
       "    <tr>\n",
       "      <th>4</th>\n",
       "      <td>ART_AND_DESIGN</td>\n",
       "      <td>4.3</td>\n",
       "      <td>967</td>\n",
       "      <td>2.8M</td>\n",
       "      <td>100,000+</td>\n",
       "      <td>Free</td>\n",
       "      <td>0</td>\n",
       "      <td>Everyone</td>\n",
       "      <td>Art &amp; Design;Creativity</td>\n",
       "      <td>June 20, 2018</td>\n",
       "      <td>1.1</td>\n",
       "      <td>4.4 and up</td>\n",
       "    </tr>\n",
       "  </tbody>\n",
       "</table>\n",
       "</div>"
      ],
      "text/plain": [
       "         Category  Rating Reviews  Size     Installs  Type Price  \\\n",
       "0  ART_AND_DESIGN     4.1     159   19M      10,000+  Free     0   \n",
       "1  ART_AND_DESIGN     3.9     967   14M     500,000+  Free     0   \n",
       "2  ART_AND_DESIGN     4.7   87510  8.7M   5,000,000+  Free     0   \n",
       "3  ART_AND_DESIGN     4.5  215644   25M  50,000,000+  Free     0   \n",
       "4  ART_AND_DESIGN     4.3     967  2.8M     100,000+  Free     0   \n",
       "\n",
       "  Content Rating                     Genres      Last Updated  \\\n",
       "0       Everyone               Art & Design   January 7, 2018   \n",
       "1       Everyone  Art & Design;Pretend Play  January 15, 2018   \n",
       "2       Everyone               Art & Design    August 1, 2018   \n",
       "3           Teen               Art & Design      June 8, 2018   \n",
       "4       Everyone    Art & Design;Creativity     June 20, 2018   \n",
       "\n",
       "          Current Ver   Android Ver  \n",
       "0               1.0.0  4.0.3 and up  \n",
       "1               2.0.0  4.0.3 and up  \n",
       "2               1.2.4  4.0.3 and up  \n",
       "3  Varies with device    4.2 and up  \n",
       "4                 1.1    4.4 and up  "
      ]
     },
     "execution_count": 5,
     "metadata": {},
     "output_type": "execute_result"
    }
   ],
   "source": [
    "df.head()"
   ]
  },
  {
   "cell_type": "markdown",
   "id": "06378b67",
   "metadata": {},
   "source": [
    "# Installs"
   ]
  },
  {
   "cell_type": "code",
   "execution_count": 6,
   "id": "e1b8727e",
   "metadata": {},
   "outputs": [
    {
     "data": {
      "text/plain": [
       "0        10,000+\n",
       "1       500,000+\n",
       "2     5,000,000+\n",
       "3    50,000,000+\n",
       "4       100,000+\n",
       "Name: Installs, dtype: object"
      ]
     },
     "execution_count": 6,
     "metadata": {},
     "output_type": "execute_result"
    }
   ],
   "source": [
    "df['Installs'].head()"
   ]
  },
  {
   "cell_type": "code",
   "execution_count": 7,
   "id": "bf660487",
   "metadata": {},
   "outputs": [],
   "source": [
    "df['Installs'] = df['Installs'].apply(lambda x: x.replace(\"+\", \"\") if x[-1] == \"+\" else x)"
   ]
  },
  {
   "cell_type": "code",
   "execution_count": 8,
   "id": "ba0d9575",
   "metadata": {},
   "outputs": [
    {
     "data": {
      "text/plain": [
       "0        10,000\n",
       "1       500,000\n",
       "2     5,000,000\n",
       "3    50,000,000\n",
       "4       100,000\n",
       "Name: Installs, dtype: object"
      ]
     },
     "execution_count": 8,
     "metadata": {},
     "output_type": "execute_result"
    }
   ],
   "source": [
    "df['Installs'].head()"
   ]
  },
  {
   "cell_type": "code",
   "execution_count": 9,
   "id": "cc053943",
   "metadata": {},
   "outputs": [],
   "source": [
    "df['Installs'] = df['Installs'].apply(lambda x: x.replace(',', ''))"
   ]
  },
  {
   "cell_type": "code",
   "execution_count": 10,
   "id": "cdf5a3b4",
   "metadata": {},
   "outputs": [
    {
     "data": {
      "text/plain": [
       "0       10000\n",
       "1      500000\n",
       "2     5000000\n",
       "3    50000000\n",
       "4      100000\n",
       "Name: Installs, dtype: object"
      ]
     },
     "execution_count": 10,
     "metadata": {},
     "output_type": "execute_result"
    }
   ],
   "source": [
    "df['Installs'].head()"
   ]
  },
  {
   "cell_type": "code",
   "execution_count": 11,
   "id": "332dee54",
   "metadata": {},
   "outputs": [
    {
     "data": {
      "text/plain": [
       "1"
      ]
     },
     "execution_count": 11,
     "metadata": {},
     "output_type": "execute_result"
    }
   ],
   "source": [
    "df['Installs'][df['Installs'] == 'Free'].count()"
   ]
  },
  {
   "cell_type": "code",
   "execution_count": 12,
   "id": "be64d047",
   "metadata": {},
   "outputs": [],
   "source": [
    "df['Installs'] = df['Installs'].apply(lambda x: x.replace('Free', '0') if x == \"Free\" else x)"
   ]
  },
  {
   "cell_type": "code",
   "execution_count": 13,
   "id": "6d1c81d9",
   "metadata": {},
   "outputs": [],
   "source": [
    "df['Installs'] = df['Installs'].apply(lambda x: int(x))"
   ]
  },
  {
   "cell_type": "code",
   "execution_count": 14,
   "id": "9462ba3a",
   "metadata": {},
   "outputs": [
    {
     "data": {
      "text/plain": [
       "dtype('int64')"
      ]
     },
     "execution_count": 14,
     "metadata": {},
     "output_type": "execute_result"
    }
   ],
   "source": [
    "df['Installs'].dtype"
   ]
  },
  {
   "cell_type": "markdown",
   "id": "5b2b197d",
   "metadata": {},
   "source": [
    "# Type"
   ]
  },
  {
   "cell_type": "code",
   "execution_count": 15,
   "id": "41939707",
   "metadata": {},
   "outputs": [
    {
     "data": {
      "text/plain": [
       "0    Free\n",
       "1    Free\n",
       "2    Free\n",
       "3    Free\n",
       "4    Free\n",
       "Name: Type, dtype: object"
      ]
     },
     "execution_count": 15,
     "metadata": {},
     "output_type": "execute_result"
    }
   ],
   "source": [
    "df['Type'].head()"
   ]
  },
  {
   "cell_type": "code",
   "execution_count": 16,
   "id": "1f5dc12e",
   "metadata": {},
   "outputs": [
    {
     "data": {
      "text/plain": [
       "234      Paid\n",
       "235      Paid\n",
       "290      Paid\n",
       "291      Paid\n",
       "427      Paid\n",
       "         ... \n",
       "10735    Paid\n",
       "10760    Paid\n",
       "10782    Paid\n",
       "10785    Paid\n",
       "10798    Paid\n",
       "Name: Type, Length: 800, dtype: object"
      ]
     },
     "execution_count": 16,
     "metadata": {},
     "output_type": "execute_result"
    }
   ],
   "source": [
    "df['Type'][df['Type'] == 'Paid']"
   ]
  },
  {
   "cell_type": "code",
   "execution_count": 17,
   "id": "9476fb86",
   "metadata": {},
   "outputs": [
    {
     "data": {
      "text/plain": [
       "0        Free\n",
       "1        Free\n",
       "2        Free\n",
       "3        Free\n",
       "4        Free\n",
       "         ... \n",
       "10836    Free\n",
       "10837    Free\n",
       "10838    Free\n",
       "10839    Free\n",
       "10840    Free\n",
       "Name: Type, Length: 10039, dtype: object"
      ]
     },
     "execution_count": 17,
     "metadata": {},
     "output_type": "execute_result"
    }
   ],
   "source": [
    "df['Type'][df['Type'] == \"Free\"]"
   ]
  },
  {
   "cell_type": "code",
   "execution_count": 18,
   "id": "0a06b629",
   "metadata": {},
   "outputs": [],
   "source": [
    "df['Type'] = df['Type'].apply(lambda x: x.replace(\"Free\" , \"0\") if x == \"Free\" else x)"
   ]
  },
  {
   "cell_type": "code",
   "execution_count": 19,
   "id": "ff094345",
   "metadata": {},
   "outputs": [],
   "source": [
    "df['Type'] = df['Type'].apply(lambda x: x.replace(\"Paid\",  \"1\") if x == \"Paid\" else x)"
   ]
  },
  {
   "cell_type": "code",
   "execution_count": 20,
   "id": "acec0b6d",
   "metadata": {},
   "outputs": [
    {
     "data": {
      "text/plain": [
       "234      1\n",
       "235      1\n",
       "290      1\n",
       "291      1\n",
       "427      1\n",
       "        ..\n",
       "10735    1\n",
       "10760    1\n",
       "10782    1\n",
       "10785    1\n",
       "10798    1\n",
       "Name: Type, Length: 800, dtype: object"
      ]
     },
     "execution_count": 20,
     "metadata": {},
     "output_type": "execute_result"
    }
   ],
   "source": [
    "df['Type'][df['Type'] == \"1\"]"
   ]
  },
  {
   "cell_type": "code",
   "execution_count": 21,
   "id": "ab54a7d4",
   "metadata": {},
   "outputs": [
    {
     "data": {
      "text/plain": [
       "0        0\n",
       "1        0\n",
       "2        0\n",
       "3        0\n",
       "4        0\n",
       "        ..\n",
       "10836    0\n",
       "10837    0\n",
       "10838    0\n",
       "10839    0\n",
       "10840    0\n",
       "Name: Type, Length: 10040, dtype: object"
      ]
     },
     "execution_count": 21,
     "metadata": {},
     "output_type": "execute_result"
    }
   ],
   "source": [
    "df['Type'][df['Type'] == \"0\"]"
   ]
  },
  {
   "cell_type": "code",
   "execution_count": 22,
   "id": "1a36d13d",
   "metadata": {},
   "outputs": [
    {
     "data": {
      "text/plain": [
       "1"
      ]
     },
     "execution_count": 22,
     "metadata": {},
     "output_type": "execute_result"
    }
   ],
   "source": [
    "df['Type'].isna().sum()"
   ]
  },
  {
   "cell_type": "code",
   "execution_count": 23,
   "id": "59aed7e2",
   "metadata": {},
   "outputs": [
    {
     "data": {
      "text/plain": [
       "0    0\n",
       "dtype: object"
      ]
     },
     "execution_count": 23,
     "metadata": {},
     "output_type": "execute_result"
    }
   ],
   "source": [
    "df['Type'].mode()"
   ]
  },
  {
   "cell_type": "code",
   "execution_count": 24,
   "id": "7b04c770",
   "metadata": {},
   "outputs": [],
   "source": [
    "df['Type'].fillna(\"0\", inplace=True)"
   ]
  },
  {
   "cell_type": "code",
   "execution_count": 25,
   "id": "0cdb5f9e",
   "metadata": {},
   "outputs": [
    {
     "data": {
      "text/plain": [
       "0"
      ]
     },
     "execution_count": 25,
     "metadata": {},
     "output_type": "execute_result"
    }
   ],
   "source": [
    "df['Type'].isna().sum()"
   ]
  },
  {
   "cell_type": "code",
   "execution_count": 26,
   "id": "4d3575b9",
   "metadata": {},
   "outputs": [],
   "source": [
    "df['Type'] = df['Type'].apply(lambda x: int(x))"
   ]
  },
  {
   "cell_type": "code",
   "execution_count": 27,
   "id": "d262db4f",
   "metadata": {},
   "outputs": [
    {
     "data": {
      "text/plain": [
       "234      1\n",
       "235      1\n",
       "290      1\n",
       "291      1\n",
       "427      1\n",
       "        ..\n",
       "10735    1\n",
       "10760    1\n",
       "10782    1\n",
       "10785    1\n",
       "10798    1\n",
       "Name: Type, Length: 800, dtype: int64"
      ]
     },
     "execution_count": 27,
     "metadata": {},
     "output_type": "execute_result"
    }
   ],
   "source": [
    "df['Type'][df['Type']== 1]"
   ]
  },
  {
   "cell_type": "code",
   "execution_count": 28,
   "id": "0bf50f71",
   "metadata": {},
   "outputs": [
    {
     "data": {
      "text/plain": [
       "0        0\n",
       "1        0\n",
       "2        0\n",
       "3        0\n",
       "4        0\n",
       "        ..\n",
       "10836    0\n",
       "10837    0\n",
       "10838    0\n",
       "10839    0\n",
       "10840    0\n",
       "Name: Type, Length: 10041, dtype: int64"
      ]
     },
     "execution_count": 28,
     "metadata": {},
     "output_type": "execute_result"
    }
   ],
   "source": [
    "df['Type'][df['Type'] == 0]"
   ]
  },
  {
   "cell_type": "markdown",
   "id": "33910f35",
   "metadata": {},
   "source": [
    "# Price"
   ]
  },
  {
   "cell_type": "code",
   "execution_count": 29,
   "id": "568752a2",
   "metadata": {},
   "outputs": [
    {
     "data": {
      "text/plain": [
       "0    0\n",
       "1    0\n",
       "2    0\n",
       "3    0\n",
       "4    0\n",
       "Name: Price, dtype: object"
      ]
     },
     "execution_count": 29,
     "metadata": {},
     "output_type": "execute_result"
    }
   ],
   "source": [
    "df['Price'].head()"
   ]
  },
  {
   "cell_type": "code",
   "execution_count": 30,
   "id": "629ba39d",
   "metadata": {},
   "outputs": [
    {
     "data": {
      "text/plain": [
       "234      $4.99\n",
       "235      $4.99\n",
       "290      $4.99\n",
       "291      $4.99\n",
       "995      $4.99\n",
       "         ...  \n",
       "10046    $4.99\n",
       "10047    $4.99\n",
       "10050    $4.99\n",
       "10051    $4.99\n",
       "10052    $4.99\n",
       "Name: Price, Length: 72, dtype: object"
      ]
     },
     "execution_count": 30,
     "metadata": {},
     "output_type": "execute_result"
    }
   ],
   "source": [
    "df['Price'][df['Price'] == \"$4.99\"]"
   ]
  },
  {
   "cell_type": "code",
   "execution_count": 31,
   "id": "46d1437e",
   "metadata": {},
   "outputs": [],
   "source": [
    "df['Price'] = df['Price'].apply(lambda x: x.replace(\"$\", \"\") if x[0] == \"$\" else x)"
   ]
  },
  {
   "cell_type": "code",
   "execution_count": 32,
   "id": "a8123b91",
   "metadata": {},
   "outputs": [
    {
     "data": {
      "text/plain": [
       "234      4.99\n",
       "235      4.99\n",
       "290      4.99\n",
       "291      4.99\n",
       "995      4.99\n",
       "         ... \n",
       "10046    4.99\n",
       "10047    4.99\n",
       "10050    4.99\n",
       "10051    4.99\n",
       "10052    4.99\n",
       "Name: Price, Length: 72, dtype: object"
      ]
     },
     "execution_count": 32,
     "metadata": {},
     "output_type": "execute_result"
    }
   ],
   "source": [
    "df['Price'][df['Price'] == \"4.99\"]"
   ]
  },
  {
   "cell_type": "code",
   "execution_count": 33,
   "id": "9a783dfc",
   "metadata": {},
   "outputs": [
    {
     "data": {
      "text/plain": [
       "1"
      ]
     },
     "execution_count": 33,
     "metadata": {},
     "output_type": "execute_result"
    }
   ],
   "source": [
    "df['Price'][df['Price'] == \"Everyone\"].count()"
   ]
  },
  {
   "cell_type": "code",
   "execution_count": 34,
   "id": "c60f3a41",
   "metadata": {},
   "outputs": [],
   "source": [
    "df['Price'] = df['Price'].apply(lambda x: x.replace(\"Everyone\", \"0\") if x == \"Everyone\" else x)"
   ]
  },
  {
   "cell_type": "code",
   "execution_count": 35,
   "id": "df612bef",
   "metadata": {},
   "outputs": [
    {
     "data": {
      "text/plain": [
       "0"
      ]
     },
     "execution_count": 35,
     "metadata": {},
     "output_type": "execute_result"
    }
   ],
   "source": [
    "df['Price'].isna().sum()"
   ]
  },
  {
   "cell_type": "code",
   "execution_count": 36,
   "id": "c57d8498",
   "metadata": {},
   "outputs": [],
   "source": [
    "df['Price']= df['Price'].apply(lambda x: float(x))"
   ]
  },
  {
   "cell_type": "code",
   "execution_count": 37,
   "id": "78c14f91",
   "metadata": {},
   "outputs": [
    {
     "data": {
      "text/plain": [
       "234    4.99\n",
       "235    4.99\n",
       "236    0.00\n",
       "237    0.00\n",
       "238    0.00\n",
       "239    0.00\n",
       "240    0.00\n",
       "241    0.00\n",
       "242    0.00\n",
       "243    0.00\n",
       "244    0.00\n",
       "245    0.00\n",
       "246    0.00\n",
       "247    0.00\n",
       "248    0.00\n",
       "249    0.00\n",
       "250    0.00\n",
       "251    0.00\n",
       "252    0.00\n",
       "253    0.00\n",
       "254    0.00\n",
       "255    0.00\n",
       "256    0.00\n",
       "257    0.00\n",
       "258    0.00\n",
       "259    0.00\n",
       "260    0.00\n",
       "261    0.00\n",
       "262    0.00\n",
       "263    0.00\n",
       "264    0.00\n",
       "265    0.00\n",
       "266    0.00\n",
       "267    0.00\n",
       "268    0.00\n",
       "269    0.00\n",
       "270    0.00\n",
       "271    0.00\n",
       "272    0.00\n",
       "273    0.00\n",
       "274    0.00\n",
       "275    0.00\n",
       "276    0.00\n",
       "277    0.00\n",
       "278    0.00\n",
       "279    0.00\n",
       "280    0.00\n",
       "281    0.00\n",
       "282    0.00\n",
       "283    0.00\n",
       "284    0.00\n",
       "285    0.00\n",
       "286    0.00\n",
       "287    0.00\n",
       "288    0.00\n",
       "289    0.00\n",
       "290    4.99\n",
       "291    4.99\n",
       "Name: Price, dtype: float64"
      ]
     },
     "execution_count": 37,
     "metadata": {},
     "output_type": "execute_result"
    }
   ],
   "source": [
    "df['Price'][234:292]"
   ]
  },
  {
   "cell_type": "code",
   "execution_count": 38,
   "id": "a071bca1",
   "metadata": {},
   "outputs": [
    {
     "data": {
      "text/plain": [
       "234    4.99\n",
       "235    4.99\n",
       "236    0.00\n",
       "237    0.00\n",
       "238    0.00\n",
       "239    0.00\n",
       "240    0.00\n",
       "241    0.00\n",
       "242    0.00\n",
       "243    0.00\n",
       "244    0.00\n",
       "245    0.00\n",
       "246    0.00\n",
       "247    0.00\n",
       "248    0.00\n",
       "249    0.00\n",
       "250    0.00\n",
       "251    0.00\n",
       "252    0.00\n",
       "253    0.00\n",
       "254    0.00\n",
       "255    0.00\n",
       "256    0.00\n",
       "257    0.00\n",
       "258    0.00\n",
       "259    0.00\n",
       "260    0.00\n",
       "261    0.00\n",
       "262    0.00\n",
       "263    0.00\n",
       "264    0.00\n",
       "265    0.00\n",
       "266    0.00\n",
       "267    0.00\n",
       "268    0.00\n",
       "269    0.00\n",
       "270    0.00\n",
       "271    0.00\n",
       "272    0.00\n",
       "273    0.00\n",
       "274    0.00\n",
       "275    0.00\n",
       "276    0.00\n",
       "277    0.00\n",
       "278    0.00\n",
       "279    0.00\n",
       "280    0.00\n",
       "281    0.00\n",
       "282    0.00\n",
       "283    0.00\n",
       "284    0.00\n",
       "285    0.00\n",
       "286    0.00\n",
       "287    0.00\n",
       "288    0.00\n",
       "289    0.00\n",
       "290    4.99\n",
       "291    4.99\n",
       "Name: Price, dtype: float64"
      ]
     },
     "execution_count": 38,
     "metadata": {},
     "output_type": "execute_result"
    }
   ],
   "source": [
    "df['Price'][234:292]"
   ]
  },
  {
   "cell_type": "markdown",
   "id": "977bb2f4",
   "metadata": {},
   "source": [
    "# Content Rating"
   ]
  },
  {
   "cell_type": "code",
   "execution_count": 39,
   "id": "55076b85",
   "metadata": {},
   "outputs": [
    {
     "data": {
      "text/plain": [
       "234           Everyone\n",
       "235           Everyone\n",
       "236           Everyone\n",
       "237           Everyone\n",
       "238           Everyone\n",
       "            ...       \n",
       "295           Everyone\n",
       "296           Everyone\n",
       "297               Teen\n",
       "298    Adults only 18+\n",
       "299               Teen\n",
       "Name: Content Rating, Length: 66, dtype: object"
      ]
     },
     "execution_count": 39,
     "metadata": {},
     "output_type": "execute_result"
    }
   ],
   "source": [
    "df['Content Rating'][234:300]"
   ]
  },
  {
   "cell_type": "code",
   "execution_count": 40,
   "id": "b6905e86",
   "metadata": {},
   "outputs": [
    {
     "data": {
      "text/plain": [
       "0          Everyone\n",
       "1          Everyone\n",
       "2          Everyone\n",
       "3              Teen\n",
       "4          Everyone\n",
       "            ...    \n",
       "10836      Everyone\n",
       "10837      Everyone\n",
       "10838      Everyone\n",
       "10839    Mature 17+\n",
       "10840      Everyone\n",
       "Name: Content Rating, Length: 10841, dtype: object"
      ]
     },
     "execution_count": 40,
     "metadata": {},
     "output_type": "execute_result"
    }
   ],
   "source": [
    "df['Content Rating']"
   ]
  },
  {
   "cell_type": "code",
   "execution_count": 41,
   "id": "aedd1070",
   "metadata": {},
   "outputs": [],
   "source": [
    "df['Content Rating'] = df['Content Rating'].apply(lambda x: x.replace('Everyone', '1') if x == 'Everyone' else x)"
   ]
  },
  {
   "cell_type": "code",
   "execution_count": 42,
   "id": "3a8b78d2",
   "metadata": {},
   "outputs": [
    {
     "data": {
      "text/plain": [
       "0       1\n",
       "1       1\n",
       "2       1\n",
       "3    Teen\n",
       "4       1\n",
       "Name: Content Rating, dtype: object"
      ]
     },
     "execution_count": 42,
     "metadata": {},
     "output_type": "execute_result"
    }
   ],
   "source": [
    "df['Content Rating'].head()"
   ]
  },
  {
   "cell_type": "code",
   "execution_count": 43,
   "id": "939e820c",
   "metadata": {},
   "outputs": [],
   "source": [
    "df['Content Rating'] = df['Content Rating'].apply(lambda x: x.replace(\"Teen\", \"10\") if x == \"Teen\" else x)"
   ]
  },
  {
   "cell_type": "code",
   "execution_count": 44,
   "id": "1b512ece",
   "metadata": {},
   "outputs": [],
   "source": [
    "df['Content Rating'] = df['Content Rating'].apply(lambda x: x.replace(\"Mature 17+\", \"17\") if x == \"Mature 17+\" else x)"
   ]
  },
  {
   "cell_type": "code",
   "execution_count": 45,
   "id": "b11f9530",
   "metadata": {},
   "outputs": [],
   "source": [
    "df['Content Rating'] = df['Content Rating'].apply(lambda x: x.replace(\"Adults only 18+\", \"18\") if x == \"Adults only 18+\" else x)"
   ]
  },
  {
   "cell_type": "code",
   "execution_count": 46,
   "id": "47ca82db",
   "metadata": {},
   "outputs": [
    {
     "data": {
      "text/plain": [
       "1"
      ]
     },
     "execution_count": 46,
     "metadata": {},
     "output_type": "execute_result"
    }
   ],
   "source": [
    "df['Content Rating'].isna().sum()"
   ]
  },
  {
   "cell_type": "code",
   "execution_count": 47,
   "id": "d09ac25f",
   "metadata": {},
   "outputs": [],
   "source": [
    "df['Content Rating'].fillna(1, inplace=True)"
   ]
  },
  {
   "cell_type": "code",
   "execution_count": 48,
   "id": "9fc79316",
   "metadata": {},
   "outputs": [
    {
     "data": {
      "text/plain": [
       "0"
      ]
     },
     "execution_count": 48,
     "metadata": {},
     "output_type": "execute_result"
    }
   ],
   "source": [
    "df['Content Rating'].isna().sum()"
   ]
  },
  {
   "cell_type": "code",
   "execution_count": 49,
   "id": "b74b1935",
   "metadata": {},
   "outputs": [],
   "source": [
    "df['Content Rating'] = df['Content Rating'].apply(lambda x: x.replace(\"Everyone 10+\", \"11\") if x == \"Everyone 10+\" else x)"
   ]
  },
  {
   "cell_type": "code",
   "execution_count": 50,
   "id": "9d5c2623",
   "metadata": {},
   "outputs": [],
   "source": [
    "df['Content Rating'] = df['Content Rating'].apply(lambda x: x.replace(\"Unrated\", \"1\") if x == \"Unrated\" else x)"
   ]
  },
  {
   "cell_type": "code",
   "execution_count": 51,
   "id": "14eb09d6",
   "metadata": {},
   "outputs": [],
   "source": [
    "df['Content Rating'] = df['Content Rating'].apply(lambda x: int(x))"
   ]
  },
  {
   "cell_type": "code",
   "execution_count": 52,
   "id": "131bccda",
   "metadata": {},
   "outputs": [
    {
     "data": {
      "text/plain": [
       "dtype('int64')"
      ]
     },
     "execution_count": 52,
     "metadata": {},
     "output_type": "execute_result"
    }
   ],
   "source": [
    "df['Content Rating'].dtype"
   ]
  },
  {
   "cell_type": "code",
   "execution_count": null,
   "id": "e6838a88",
   "metadata": {},
   "outputs": [],
   "source": []
  }
 ],
 "metadata": {
  "kernelspec": {
   "display_name": "Python 3 (ipykernel)",
   "language": "python",
   "name": "python3"
  },
  "language_info": {
   "codemirror_mode": {
    "name": "ipython",
    "version": 3
   },
   "file_extension": ".py",
   "mimetype": "text/x-python",
   "name": "python",
   "nbconvert_exporter": "python",
   "pygments_lexer": "ipython3",
   "version": "3.9.7"
  }
 },
 "nbformat": 4,
 "nbformat_minor": 5
}
